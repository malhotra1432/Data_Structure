{
 "cells": [
  {
   "cell_type": "markdown",
   "metadata": {},
   "source": [
    "# LinkedList\n",
    "* Advantages\n",
    "    * Dynamic Data Structure made up of nodes i.e. we can allocate the required memory while the program is running.\n",
    "    * A Dynamic Data Sctructure can shrink and expand easily during Run Time.\n",
    "    * So LinkedList doesn't have a predetermined fixed size i.e it does not reserve any extra space in advance.\n",
    "    * It allocates memory for the next item as and when it needs it.\n",
    "    * Data in LinkedList is not stored in contiguous memory locations.\n",
    "    * Insertion and deletion is easier.\n",
    "    * There is no physical movement of data while inserting and deleteing any data.\n",
    "    * Can be used to implement abstract data types like list, stack,queue,etc.|\n",
    "* Disadvantages\n",
    "    * Efficient random access is bot possible i.e. we can't access the elements of LinkedList by numeric index.\n",
    "    * Extra memory is required for implementation. Extra memory is required due to the link which is stored with each item.\n",
    "    "
   ]
  },
  {
   "cell_type": "markdown",
   "metadata": {},
   "source": [
    "# Types of LinkedList\n",
    "    * Single Linked List\n",
    "    * Double Linked List\n",
    "    * Circular Linked List\n",
    "    * Linked List with Header Node\n",
    "    * Sorted Linked List"
   ]
  },
  {
   "cell_type": "markdown",
   "metadata": {},
   "source": [
    "# SingleLinkedList\n",
    "* A SingleLinkedList is made up of nodes where each node has two parts i.e. \"info\" and \"link\" part.\n",
    "* Info part consist the list item, actual data that has to be stored in list.\n",
    "* Link part is the reference part for the next node of the list.\n",
    "\n",
    "![title](Images/1_Single_Linked_List.png)"
   ]
  },
  {
   "cell_type": "markdown",
   "metadata": {},
   "source": [
    "## Implementation of SingleLinkedList"
   ]
  },
  {
   "cell_type": "code",
   "execution_count": 1,
   "metadata": {},
   "outputs": [],
   "source": [
    "class Node:\n",
    "    \n",
    "    def __init__(self,value):\n",
    "        self.info = value\n",
    "        self.link = None"
   ]
  },
  {
   "cell_type": "code",
   "execution_count": 2,
   "metadata": {},
   "outputs": [],
   "source": [
    "class Single_Linked_List:\n",
    "    \n",
    "    def __init__(self):\n",
    "        self.start = None\n",
    "        \n",
    "    def display_list(self):\n",
    "        if self.start is None:\n",
    "            print(\"List is Empty \")\n",
    "            return\n",
    "        else:\n",
    "            print(\"List is : \")\n",
    "            p = self.start\n",
    "            while p is not None:\n",
    "                print(p.info,\" \",end=\"\")\n",
    "                p = p.link\n",
    "            print()\n",
    "    \n",
    "    def count_nodes(self):\n",
    "        p = self.start\n",
    "        n = 0\n",
    "        while p is not None:\n",
    "            n += 1\n",
    "            p = p.link\n",
    "        print(\"Number of nodes in list is \", n)\n",
    "    \n",
    "    def search(self,x):\n",
    "        position = 1\n",
    "        p = self.start\n",
    "        while p is not None:\n",
    "            if p.info == x:\n",
    "                print(x, \" is at postion \",position)\n",
    "                return True\n",
    "            position += 1\n",
    "            p = p.link\n",
    "        else:\n",
    "            print(x,\" not found in the list \")\n",
    "            return False\n",
    "                \n",
    "    \n",
    "    def insert_at_begining(self,data):\n",
    "        temp = Node(data)\n",
    "        temp.link = self.start\n",
    "        self.start = temp\n",
    "    \n",
    "    def insert_at_end(self,data):\n",
    "        temp = Node(data)\n",
    "        if self.start is None:\n",
    "            self.start = temp\n",
    "            return\n",
    "        p = self.start\n",
    "        while p.link is not None:\n",
    "            p = p.link\n",
    "        p.link = temp\n",
    "    \n",
    "    def create_list(self):\n",
    "        n = int(input(\"Enter the number of nodes \"))\n",
    "        if n == 0:\n",
    "            return\n",
    "        for i in range(n):\n",
    "            data = int(input(\"Enter element to be inserted \"))\n",
    "            self.insert_at_end(data)\n",
    "        \n",
    "    \n",
    "    def insert_after(self,data,x):\n",
    "        p = self.start\n",
    "        while p is not None:\n",
    "            if p.info == x:\n",
    "                break\n",
    "            p = p.link\n",
    "        if p is None:\n",
    "            print(x, \" not present in the list \")\n",
    "        else:\n",
    "            temp = Node(data)\n",
    "            temp.link = p.link\n",
    "            p.link = temp\n",
    "    \n",
    "    def insert_before(self,data,x):\n",
    "        # if list is empty\n",
    "        if self.start is None:\n",
    "            print(\"List is Empty\")\n",
    "            return\n",
    "        # x is in first node, new node is to be inserted before first node\n",
    "        if x == self.start.info:\n",
    "            temp =Node(data)\n",
    "            temp.link = self.start\n",
    "            self.start = temp\n",
    "            return \n",
    "        # find reference to the predecessor of node containing x\n",
    "        p = self.start\n",
    "        while p.link is not None:\n",
    "            if p.link.info == x:\n",
    "                break\n",
    "            p = p.link\n",
    "        if p.link is None:\n",
    "            print(x,\" not present in the list\")\n",
    "        else:\n",
    "            temp = Node(data)\n",
    "            temp.link = p.link\n",
    "            p.link = temp\n",
    "    \n",
    "    def insert_at_position(self,data,k):\n",
    "        if k == 1:\n",
    "            temp = Node(data)\n",
    "            temp.link = self.start\n",
    "            self.start = temp\n",
    "            return\n",
    "        p = self.start\n",
    "        i = 1\n",
    "        while i<k-1 and p is not None:\n",
    "            p = p.link\n",
    "            i+=1\n",
    "        if p is None:\n",
    "            print(\"you can insert only upto position \", i)\n",
    "        else:\n",
    "            temp = Node(data)\n",
    "            temp.link = p.link\n",
    "            p.link = temp\n",
    "        \n",
    "    \n",
    "    def delete_node(self,x):\n",
    "        pass\n",
    "    \n",
    "    def delete_first_node(self):\n",
    "        pass\n",
    "    \n",
    "    def delete_last_node(self):\n",
    "        pass\n",
    "    \n",
    "    def reverse_list(self):\n",
    "        pass\n",
    "    \n",
    "    def bubble_sort_exdata(self):\n",
    "        pass\n",
    "    \n",
    "    def bubble_sort_exlinks(self):\n",
    "        pass\n",
    "    \n",
    "    def has_cycle(self):\n",
    "        pass\n",
    "    \n",
    "    def find_cycle(self):\n",
    "        pass\n",
    "    \n",
    "    def remove_cycle(self):\n",
    "        pass\n",
    "    \n",
    "    def insert_cycle(self,x):\n",
    "        pass\n",
    "    \n",
    "    def merge2(self,list2):\n",
    "        pass\n",
    "    \n",
    "    def _merge2(self,p1,p2):\n",
    "        pass\n",
    "    \n",
    "    def merge_sort(self):\n",
    "        pass\n",
    "    \n",
    "    def _merge_sort_rec(self,list_start):\n",
    "        pass\n",
    "    \n",
    "    def _divide_list(self,p):\n",
    "        pass"
   ]
  },
  {
   "cell_type": "code",
   "execution_count": 10,
   "metadata": {},
   "outputs": [],
   "source": [
    "sl_list = Single_Linked_List()\n",
    "#list.create_list()"
   ]
  },
  {
   "cell_type": "code",
   "execution_count": 4,
   "metadata": {},
   "outputs": [],
   "source": [
    "# How to Traverse a LinkedList?\n",
    "# Traversel means visiting each node exactly once."
   ]
  },
  {
   "cell_type": "code",
   "execution_count": 19,
   "metadata": {},
   "outputs": [
    {
     "name": "stdout",
     "output_type": "stream",
     "text": [
      "List is : \n",
      "0  0  1  2  9  \n"
     ]
    }
   ],
   "source": [
    "sl_list.display_list()"
   ]
  },
  {
   "cell_type": "code",
   "execution_count": 11,
   "metadata": {},
   "outputs": [
    {
     "name": "stdout",
     "output_type": "stream",
     "text": [
      "Number of nodes in list is  0\n"
     ]
    }
   ],
   "source": [
    "sl_list.count_nodes()"
   ]
  },
  {
   "cell_type": "code",
   "execution_count": 12,
   "metadata": {},
   "outputs": [
    {
     "name": "stdout",
     "output_type": "stream",
     "text": [
      "23  not found in the list \n"
     ]
    },
    {
     "data": {
      "text/plain": [
       "False"
      ]
     },
     "execution_count": 12,
     "metadata": {},
     "output_type": "execute_result"
    }
   ],
   "source": [
    "sl_list.search(23)"
   ]
  },
  {
   "cell_type": "code",
   "execution_count": 13,
   "metadata": {},
   "outputs": [
    {
     "name": "stdout",
     "output_type": "stream",
     "text": [
      "Enter the number of nodes 2\n",
      "Enter element to be inserted 1\n",
      "Enter element to be inserted 2\n"
     ]
    }
   ],
   "source": [
    "sl_list.create_list()"
   ]
  },
  {
   "cell_type": "code",
   "execution_count": 16,
   "metadata": {},
   "outputs": [],
   "source": [
    "sl_list.insert_at_begining(0)"
   ]
  },
  {
   "cell_type": "code",
   "execution_count": 18,
   "metadata": {},
   "outputs": [],
   "source": [
    "sl_list.insert_at_end(9)"
   ]
  },
  {
   "cell_type": "markdown",
   "metadata": {},
   "source": [
    "### Finding references in a Linked List\n",
    "* Finding reference to last node\n",
    "* Finding reference to second last node\n",
    "* Finding reference to node with particular info\n",
    "* Finding reference to predecessor of a node with particular info\n",
    "* Finding reference to a node at a particular position"
   ]
  },
  {
   "cell_type": "markdown",
   "metadata": {},
   "source": [
    "#### Finding reference to last node\n",
    "* We start at the first node by initializing \"p\" with reference start.\n",
    "* While traversing the list we have the \"while\" loop condition \"p.link\" is not None. So the loop breaks when \"p.link\" is None.\n",
    "* The refernce \"p = p.link\" moves the reference p to one node forward.\n",
    "* \"p.link\" becomes None when p refers to the last node of the list.\n",
    "![title](Images/5_Ref_LN.png)"
   ]
  },
  {
   "cell_type": "markdown",
   "metadata": {},
   "source": [
    "#### Finding reference to second last node\n",
    "* Here the loop condition is \"p.link.link is not None\" i.e. the loop will terminate if p.link.link becomes None.\n",
    "* So when we refer the second last node then p.link will refer the last node and p.link.link will be None.\n",
    "\n",
    "![title](Images/6_Ref_SLN.png)"
   ]
  },
  {
   "cell_type": "markdown",
   "metadata": {},
   "source": [
    "#### Finding reference to node with particular info\n",
    "\n",
    "* Here the loop terminates when p refers to a node which contains \"x\".\n",
    "* If \"x\" is not present in the list then p will become None.\n",
    "\n",
    "![title](Images/7_Ref_info.png)"
   ]
  },
  {
   "cell_type": "markdown",
   "metadata": {},
   "source": [
    "#### Finding reference to predecessor of a node with particular info\n",
    "\n",
    "* Here the the loop terminates if \"p.link\" is None.\n",
    "* p.link.info gives the predecessor of the node that contains x.\n",
    "\n",
    "![title](Images/8_Ref_pred_info.png)"
   ]
  },
  {
   "cell_type": "markdown",
   "metadata": {},
   "source": [
    "#### Finding reference to a node at a particular position\n",
    "\n",
    "* Here initially p refers to first node and i =1.\n",
    "* Now i<k and p is not None. So p moves to next node and i is incremented by 1.\n",
    "* When value of i=k and p is not None. So loop terminates.\n",
    "* So when loop terminates p refers to the loop at the kth position.\n",
    "* If k value is greater than number of nodes in the list then loop terminates.\n",
    "\n",
    "![title](Images/9_Ref_part_info.png)"
   ]
  },
  {
   "cell_type": "markdown",
   "metadata": {},
   "source": [
    "## Insertion in a Single Linked List\n",
    "* Insertion in the begining \n",
    "* Insertion in an empty list\n",
    "* Insertion at the end\n",
    "* Insertion in between the list nodes"
   ]
  },
  {
   "cell_type": "markdown",
   "metadata": {},
   "source": [
    "#### Insertion in the begining\n",
    "* To insert a new node we allocate a new node and make the reference as \"temp\" refer to that node.  \n",
    "    temp = Node(data)\n",
    "    \n",
    "    ![title](Images/2_SLL_insertion.png)\n",
    "    \n",
    "    * After insertion this temp node will be the first node.\n",
    "    * So start will refer to this \"temp\" node and the actual \"first node in SLL will be the second node\".\n",
    "    * So the link of temp node will refer to the first node in actual SLL.  \n",
    "    i.e.  \n",
    "    \n",
    "    ![title](Images/3_SLL_insertion.png)\n",
    "    \n",
    "    * Next we change start and make that refer to temp node.\n",
    "    \n",
    "    ![title](Images/4_SLL_insertion.png)\n",
    "    \n",
    "    "
   ]
  },
  {
   "cell_type": "markdown",
   "metadata": {},
   "source": [
    "#### Insertion in an empty list\n",
    "\n",
    "* For an empty list \"start\" is None.\n",
    "* we allocate a new node with refernce as temp.\n",
    "* Now this node will be first node in the list. So start should refer to this node.  \n",
    "i.e. \n",
    "    * self.start = temp\n",
    "\n",
    "![title](Images/10_SLL_insertion.png)"
   ]
  },
  {
   "cell_type": "markdown",
   "metadata": {},
   "source": [
    "#### Insertion at the end\n",
    "\n",
    "* Firs we need the reference of last node of the list.\n",
    "* Then we take a temp node.\n",
    "\n",
    "![title](Images/11_SLL_insertion.png)  \n",
    "* Then we allocate the new temp node to the last node reference.\n",
    "![title](Images/12_SLL_insertion.png)"
   ]
  },
  {
   "cell_type": "markdown",
   "metadata": {},
   "source": [
    "#### Insertion in between the list nodes\n",
    "* First we will find reference to the node where we want to insert new node.\n",
    "* Then we will allocate a temp node.\n",
    "![title](Images/13_SLL_insertion.png)\n",
    "\n",
    "* Link part of previous node should be refering to temp node and temp node link should be refering to next node.\n",
    "* So first temp node link will be refering to nex node.\n",
    "* Then previous node link will be refering to temp node.\n",
    "\n",
    "![title](Images/14_SLL_insertion.png)"
   ]
  },
  {
   "cell_type": "markdown",
   "metadata": {},
   "source": [
    "#### Insertion at a given position \n",
    "* Here to insert the new node at kth position we need the reference to (k-1)th node.\n",
    "* Then we will create a temp node.\n",
    "* (k-1)th will now refer to temp node and temp node will refer to next node.\n",
    "![title](Images/15_SLL_insertion.png)"
   ]
  },
  {
   "cell_type": "markdown",
   "metadata": {},
   "source": [
    "# Insertion after a node\n",
    "* Here x = 20. So we have to insert new node after 20.\n",
    "* So for that we need reference of the node having value 20.\n",
    "\n",
    "![title](Images/16_SLL_insertion.png)\n",
    "\n",
    "* Then we will allocate a temp node and this will refer the node next to having value as 20.\n",
    "* Then at last the node having value 20 will refer to temp node.\n",
    "![title](Images/17_SLL_insertion.png)"
   ]
  },
  {
   "cell_type": "markdown",
   "metadata": {},
   "source": [
    "# Insertion before a node\n",
    "* Here x = 20. So we have to insert new node after 20.\n",
    "* So for that we need reference of the node having value 20.\n",
    "\n",
    "![title](Images/18_SLL_insertion.png)\n",
    "\n",
    "* Then we will allocate a temp node and this will refer the node next to having value as 20.\n",
    "* Then at last the node having value 20 will refer to temp node.\n",
    "![title](Images/19_SLL_insertion.png)"
   ]
  }
 ],
 "metadata": {
  "kernelspec": {
   "display_name": "Python 3",
   "language": "python",
   "name": "python3"
  },
  "language_info": {
   "codemirror_mode": {
    "name": "ipython",
    "version": 3
   },
   "file_extension": ".py",
   "mimetype": "text/x-python",
   "name": "python",
   "nbconvert_exporter": "python",
   "pygments_lexer": "ipython3",
   "version": "3.6.5"
  }
 },
 "nbformat": 4,
 "nbformat_minor": 2
}
